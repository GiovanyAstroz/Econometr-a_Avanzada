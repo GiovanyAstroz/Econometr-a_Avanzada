{
 "cells": [
  {
   "cell_type": "markdown",
   "id": "pacific-sauce",
   "metadata": {},
   "source": [
    "title:\"Econometría Avanzada\"\n",
    "author: 'Presentado por: Giovany Astroz y Javier leal'\n",
    "date: \"12 marzo 2021\"\n",
    "output:\n",
    "  pdf_document:\n",
    "    latex_engine: xelatex\n",
    "  html_document:\n",
    "    df_print: paged\n",
    "subtitle: Primer Examen Parcial"
   ]
  },
  {
   "cell_type": "markdown",
   "id": "olive-southwest",
   "metadata": {},
   "source": [
    "\n",
    "# 1. Estimación de la demanda de cerveza\n",
    "\n",
    "## 1.1. Análisis de regresión\n",
    "\n",
    "### a. Cree una nueva variable llamada “marca” que contenga la marca de cada UPC de cerveza (por ejemplo, Heineken).\n",
    "\n",
    "Al analizar la base de datos se encontró que la marca de cada UPC está contenida dentro de la variable *descrip*, sin embargo, dentro de esta variable también se encuentran características adicionales que hacen referencia principalmente a la variedad, presentación y contenido. Ahora bien, estas especificaciones adicionales se encuentran siempre luego de la marca, razón por la cual se decidió que una primera aproximación para encontrar coincidencias sería extraer la primera palabra de la descripción de cada UPC. Siguiendo esta aproximación se encuentra que existen 172 palabras diferentes que clasifican *a priori* las 787 observaciones de la base de datos. \n",
    "\n",
    "Claramente, este acercamiento no proporciona una clasificación perfecta, pues existen marcas distintas que empiezan por la misma palabra. Por lo tanto, se realizó una verificación manual para identificar las marcas cuyos UPC eran correctamente agrupados bajo este criterio y las que no. Durante este proceso se encontraron más problemas con los datos que se mencionarán más adelante.\n",
    "\n",
    "Luego de reconocer todos las limitaciones y correcciones que se debían hacer, se creó la variable *marca* de la siguiente manera:\n",
    "\n",
    "1. Se crea la variable *marca* extrayendo la primera palabra de la variable *descrip*. Aunque identificar la marca por la primera palabra no es suficiente en muchos casos, sí es una buena aproximación inicial.\n",
    "2. Se diferencian las marcas que coinciden en la primera palabra. Por ejemplo, bajo la palabra \"SAMUEL\" quedaban agrupadas dos marcas diferentes: Samuel Smith y Samuel Adams.\n",
    "3. Se unifican bajo el mismo nombre marcas que inicialmente quedaron separadas por omisión de caracteres especiales, abreviaturas o errores tipográficos en el nombre. Por ejemplo, la marca Murphy's Irish Stout se encontraba escrita con y sin apóstrofo: \"MURPHY`S\" y \"MURPHYS\"; la marca Leinenkugel se escribía también bajo la abreviatura \"LEINNKGL\" y la marca Guinness se encontraba incorrectamente escrita como \"GUINESS\".\n",
    "4. Se cambia la primera palabra por el nombre completo para todas las marcas con al menos dos observaciones y para aquellas con una sola observación en que se consideró necesario. Por ejemplo, se sustituye la palabra \"SIERRA\" por \"SIERRA NEVADA\". Si bien es cierto que estas marcas ya se encontraban correctamente identificadas, se prefirió poner el nombre completo para tener una base de datos más robusta.\n",
    "5. Se eliminan de la base de datos los UPC que corresponden a marcas que no son de cerveza (vinos, sidra, bebidas sustitutas). Por ejemplo, se identifica que las variedades de la marca Sante (hardonnay, white, cabernet) corresponden a diferentes tipos de vino, y que la marca Hard Core produce sidra, una bebida alcohólica producto de la fermentación de la manzana. Específicante, se eliminaron de la base los UPC asociados a las marcas Sante, Ariel, Sutter Home, St Regis, Hard Core, Hornsby's, Santa, Zima, Woodchuck y Woodpecker.\n",
    "6. En concordancia con el punto 1.1.c., se eliminan aquellos UPC para los cuales no es posible inferir la marca y además, aun ignorando el hecho de que no se conocía la marca, tampoco se podía determinar su \"nacionalidad\". Por ejemplo, la descripción para el UPC 1820000875 es simplemente \"WINTER BREW\", la cual hace referencia a una variedad de cerveza que es común en varias marcas. A modo de ilustración, esta prodría pertenecer a la marca Pete's Wicked (americana) o a Fuller's (inglesa). Dado lo anterior, como tampocó se podía definir si se trataba de una cerveza nacional o importada se decidió eliminar esta observación. Así mismo, se eliminaron las observaciones con las descripciones \"WIT\", \"BEER LIMIT\", \"BEERS OF THE WORLD\" y \"OS CLASSIC\", las cuales no aportaban información suficiente para contruir las variables *importada* y *artesanal*.\n",
    "\n",
    "Es conveniente mencionar que existian casos que aplicaban a más de una de las correcciones indicadas en los pasos 2, 3 y 4. Por ejemplo, bajo la palabra \"SAM\" se encontraban dos marcas diferentes: Sam Smith y Sam Adams (paso 2); precisamente, \"SAM SMITH\" y \"SAM ADAMS\" correspondían a la abreviatura de Samuel Smith y Samuel Adams (paso 3); y finalmente, las marcas señalas contaban con nombres de dos palabras (paso 4). En estos casos, la corrección se realizó en un solo paso y se puede encontrar en cualquiera de estos. \n",
    "\n",
    "Por otro lado, habían marcas con nombres diferentes pero pertenecientes a la misma empresa en donde no era muy claro si debian tomarse como una sola o no. Por ejemplo, las marcas Ice Draft Light y Bud Ice son propiedad al igual que Budweiser de la multinacional Anheuser-Busch InBev. A pesar de que las dos primeras compartían elementos de identificación y construcción de marca con Budweiser (el vocablo Bud y la referencia a Budweiser en la presentación del producto) se decidió dejarlas como marcas diferentes. Para cada caso similar se tomó la decisión de agrupar marcas o no con base en las estrategias de marketing de las empresas y las diferencias en los productos mismos.\n",
    "\n",
    "Finalmente, la base *beer* contiene la nueva variable *marca* con todas las correciones mencionadas anteriormente, donde ahora se tienen 753 observaciones y 150 marcas diferentes de cerveza.\n",
    "\n"
   ]
  },
  {
   "cell_type": "code",
   "execution_count": 25,
   "id": "acting-economy",
   "metadata": {},
   "outputs": [
    {
     "data": {
      "text/html": [],
      "text/latex": [],
      "text/markdown": [],
      "text/plain": [
       "character(0)"
      ]
     },
     "metadata": {},
     "output_type": "display_data"
    },
    {
     "name": "stderr",
     "output_type": "stream",
     "text": [
      "also installing the dependency 'SnowballC'\n",
      "\n"
     ]
    },
    {
     "name": "stdout",
     "output_type": "stream",
     "text": [
      "package 'SnowballC' successfully unpacked and MD5 sums checked\n",
      "package 'tokenizers' successfully unpacked and MD5 sums checked\n",
      "\n",
      "The downloaded binary packages are in\n",
      "\tC:\\Users\\giova\\AppData\\Local\\Temp\\RtmpmAYzpd\\downloaded_packages\n"
     ]
    },
    {
     "name": "stderr",
     "output_type": "stream",
     "text": [
      "Warning message:\n",
      "\"package 'tokenizers' was built under R version 3.6.3\""
     ]
    },
    {
     "ename": "ERROR",
     "evalue": "Error in library(writexl): there is no package called 'writexl'\n",
     "output_type": "error",
     "traceback": [
      "Error in library(writexl): there is no package called 'writexl'\nTraceback:\n",
      "1. library(writexl)"
     ]
    }
   ],
   "source": [
    "ls()\n",
    "remove(list = ls())\n",
    "\n",
    "install.packages(\"tokenizers\")\n",
    "# Cargando paquetes\n",
    "library(readr)\n",
    "library(rmarkdown)\n",
    "library(tidyverse)\n",
    "library(stringr)\n",
    "library(tibble)\n",
    "library(dplyr)\n",
    "library(tokenizers)\n",
    "library(writexl)\n",
    "library(expss)\n",
    "library(ggplot2)\n"
   ]
  }
 ],
 "metadata": {
  "kernelspec": {
   "display_name": "R",
   "language": "R",
   "name": "ir"
  },
  "language_info": {
   "codemirror_mode": "r",
   "file_extension": ".r",
   "mimetype": "text/x-r-source",
   "name": "R",
   "pygments_lexer": "r",
   "version": "3.6.1"
  }
 },
 "nbformat": 4,
 "nbformat_minor": 5
}
