{
 "cells": [
  {
   "cell_type": "code",
   "execution_count": 4,
   "id": "narrow-running",
   "metadata": {},
   "outputs": [
    {
     "name": "stderr",
     "output_type": "stream",
     "text": [
      "Warning message:\n",
      "\"package 'tokenizers' is in use and will not be installed\"Warning message:\n",
      "\"package 'writexl' is in use and will not be installed\""
     ]
    },
    {
     "name": "stdout",
     "output_type": "stream",
     "text": [
      "package 'expss' successfully unpacked and MD5 sums checked\n",
      "\n",
      "The downloaded binary packages are in\n",
      "\tC:\\Users\\giova\\AppData\\Local\\Temp\\Rtmp4AHRNN\\downloaded_packages\n"
     ]
    }
   ],
   "source": [
    "install.packages(\"tokenizers\")\n",
    "install.packages(\"writexl\")\n",
    "install.packages(\"expss\")\n",
    "# Cargando paquetes\n"
   ]
  },
  {
   "cell_type": "code",
   "execution_count": 5,
   "id": "resident-nirvana",
   "metadata": {},
   "outputs": [
    {
     "name": "stderr",
     "output_type": "stream",
     "text": [
      "Warning message:\n",
      "\"package 'expss' was built under R version 3.6.3\"\n",
      "Attaching package: 'expss'\n",
      "\n",
      "The following objects are masked from 'package:stringr':\n",
      "\n",
      "    fixed, regex\n",
      "\n",
      "The following objects are masked from 'package:dplyr':\n",
      "\n",
      "    between, compute, contains, first, last, na_if, recode, vars\n",
      "\n",
      "The following objects are masked from 'package:purrr':\n",
      "\n",
      "    keep, modify, modify_if, transpose, when\n",
      "\n",
      "The following object is masked from 'package:tidyr':\n",
      "\n",
      "    nest\n",
      "\n",
      "The following object is masked from 'package:ggplot2':\n",
      "\n",
      "    vars\n",
      "\n"
     ]
    }
   ],
   "source": [
    "library(readr)\n",
    "library(rmarkdown)\n",
    "library(tidyverse)\n",
    "library(stringr)\n",
    "library(tibble)\n",
    "library(dplyr)\n",
    "library(tokenizers)\n",
    "library(writexl)\n",
    "library(expss)\n",
    "library(ggplot2)"
   ]
  },
  {
   "cell_type": "code",
   "execution_count": null,
   "id": "passing-collection",
   "metadata": {},
   "outputs": [],
   "source": []
  }
 ],
 "metadata": {
  "kernelspec": {
   "display_name": "R",
   "language": "R",
   "name": "ir"
  },
  "language_info": {
   "codemirror_mode": "r",
   "file_extension": ".r",
   "mimetype": "text/x-r-source",
   "name": "R",
   "pygments_lexer": "r",
   "version": "3.6.1"
  }
 },
 "nbformat": 4,
 "nbformat_minor": 5
}
